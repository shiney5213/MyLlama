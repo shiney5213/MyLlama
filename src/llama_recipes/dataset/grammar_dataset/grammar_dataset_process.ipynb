{
 "cells": [
  {
   "attachments": {},
   "cell_type": "markdown",
   "metadata": {},
   "source": [
    "Copyright (c) Meta Platforms, Inc. and affiliates.\n",
    "This software may be used and distributed according to the terms of the Llama 2 Community License Agreement.\n",
    "\n",
    "Use this notebook to pull in datasets and apply pre-processing.  Most grammar datasets unfortunately require preprocessing before being usable in training. (example - jfleg has 4 targets per input, so we have to rematch as 1:1 pairings) "
   ]
  },
  {
   "cell_type": "code",
   "execution_count": 1,
   "metadata": {},
   "outputs": [
    {
     "name": "stderr",
     "output_type": "stream",
     "text": [
      "c:\\Users\\shiney\\anaconda3\\envs\\llama_recipes\\lib\\site-packages\\tqdm\\auto.py:21: TqdmWarning: IProgress not found. Please update jupyter and ipywidgets. See https://ipywidgets.readthedocs.io/en/stable/user_install.html\n",
      "  from .autonotebook import tqdm as notebook_tqdm\n"
     ]
    }
   ],
   "source": [
    "import csv\n",
    "from datasets import load_metric, load_dataset\n",
    "from pathlib import Path\n",
    "import pandas as pd"
   ]
  },
  {
   "cell_type": "code",
   "execution_count": 2,
   "metadata": {},
   "outputs": [],
   "source": [
    "list_replacements = [\n",
    "  (\" .\", \".\"), \n",
    "  (\" ,\", \",\"),\n",
    "  (\" '\", \"'\"),\n",
    "  (\" ?\", \"?\"),\n",
    "  (\" !\", \"!\"),\n",
    "  (\" :\", \":\"),\n",
    "  (\" ;\", \";\"),\n",
    "  (\" n't\", \"n't\"),\n",
    "  (\" v\", \"v\"),\n",
    "  (\"2 0 0 6\", \"2006\"),\n",
    "  (\"5 5\", \"55\"),\n",
    "  (\"4 0 0\", \"400\"),\n",
    "  (\"1 7-5 0\", \"1750\"),\n",
    "  (\"2 0 %\", \"20%\"),\n",
    "  (\"5 0\", \"50\"),\n",
    "  (\"1 2\", \"12\"),\n",
    "  (\"1 0\", \"10\"),\n",
    "  ('\" ballast water', '\"ballast water')\n",
    "  ]"
   ]
  },
  {
   "cell_type": "code",
   "execution_count": 3,
   "metadata": {},
   "outputs": [],
   "source": [
    "def correct_spacing(item):\n",
    "    \"\"\" we iterate through the list of all replacements per each item in dataset\"\"\"\n",
    "    for fix in list_replacements:\n",
    "        # print('correct_spacing : fix[0]', fix[0])\n",
    "        # print('correct_spacing : fix[1]', fix[1])\n",
    "\n",
    "        item = item.replace(fix[0], fix[1])\n",
    "    return item\n",
    "\n"
   ]
  },
  {
   "cell_type": "code",
   "execution_count": 29,
   "metadata": {},
   "outputs": [],
   "source": [
    "def generate_csv(csv_path, dataset):\n",
    "    \"\"\" apply spacing corrections and save out matched pairs to csv file as dataset\"\"\"\n",
    "    with open(csv_path, 'w', newline='') as csvfile:\n",
    "        writer = csv.writer(csvfile)\n",
    "        writer.writerow([\"input\", \"target\"])\n",
    "        for case in dataset:\n",
    "     \t    # Adding the t5 task indication prefix to input \n",
    "            input_text = case[\"sentence\"]\n",
    "            input_text = correct_spacing(input_text)\n",
    "\n",
    "            for correction in case[\"corrections\"]:\n",
    "              correction = correct_spacing(correction)\n",
    "              # a few of the cases contain blank strings. \n",
    "              if input_text and correction:\n",
    "                writer.writerow([input_text, correction])"
   ]
  },
  {
   "cell_type": "markdown",
   "metadata": {},
   "source": [
    "# dataset\n",
    "## 1) Jfleg dataset"
   ]
  },
  {
   "attachments": {},
   "cell_type": "markdown",
   "metadata": {},
   "source": [
    "In Jfleg  - validation will be used as 'train', test will be 'validation'\n"
   ]
  },
  {
   "cell_type": "code",
   "execution_count": 4,
   "metadata": {},
   "outputs": [
    {
     "name": "stderr",
     "output_type": "stream",
     "text": [
      "Downloading readme: 100%|██████████| 5.95k/5.95k [00:00<00:00, 5.96MB/s]\n",
      "Downloading data: 100%|██████████| 148k/148k [00:01<00:00, 86.6kB/s]\n",
      "Downloading data: 100%|██████████| 141k/141k [00:01<00:00, 137kB/s]\n",
      "Generating validation split: 100%|██████████| 755/755 [00:00<00:00, 21027.78 examples/s]\n",
      "Generating test split: 100%|██████████| 748/748 [00:00<00:00, 107175.19 examples/s]"
     ]
    },
    {
     "name": "stdout",
     "output_type": "stream",
     "text": [
      "<class 'datasets.dataset_dict.DatasetDict'>\n"
     ]
    },
    {
     "name": "stderr",
     "output_type": "stream",
     "text": [
      "\n"
     ]
    }
   ],
   "source": [
    "data = load_dataset(\"jfleg\")\n",
    "print(type(data))"
   ]
  },
  {
   "cell_type": "code",
   "execution_count": 7,
   "metadata": {},
   "outputs": [
    {
     "data": {
      "text/plain": [
       "dict_keys(['validation', 'test'])"
      ]
     },
     "execution_count": 7,
     "metadata": {},
     "output_type": "execute_result"
    }
   ],
   "source": [
    "#dict_keys(['validation', 'test'])\n",
    "data.keys()"
   ]
  },
  {
   "cell_type": "code",
   "execution_count": 8,
   "metadata": {},
   "outputs": [],
   "source": [
    "train_dataset = load_dataset(\"jfleg\", split='validation[:]') \n",
    "eval_dataset = load_dataset(\"jfleg\", split='test[:]')\n"
   ]
  },
  {
   "cell_type": "code",
   "execution_count": 7,
   "metadata": {},
   "outputs": [
    {
     "name": "stdout",
     "output_type": "stream",
     "text": [
      "Dataset({\n",
      "    features: ['sentence', 'corrections'],\n",
      "    num_rows: 755\n",
      "})\n",
      "Dataset({\n",
      "    features: ['sentence', 'corrections'],\n",
      "    num_rows: 748\n",
      "})\n"
     ]
    }
   ],
   "source": [
    "print(train_dataset)\n",
    "print(eval_dataset)\n"
   ]
  },
  {
   "cell_type": "code",
   "execution_count": 17,
   "metadata": {},
   "outputs": [
    {
     "name": "stdout",
     "output_type": "stream",
     "text": [
      "755\n",
      "748\n",
      "755\n",
      "748\n"
     ]
    }
   ],
   "source": [
    "print(len(train_dataset['sentence']))\n",
    "print(len(eval_dataset['sentence']))\n",
    "print(len(train_dataset['corrections']))\n",
    "print(len(eval_dataset['corrections']))"
   ]
  },
  {
   "cell_type": "code",
   "execution_count": 22,
   "metadata": {},
   "outputs": [
    {
     "name": "stdout",
     "output_type": "stream",
     "text": [
      "There are several reason . \n",
      "0 There are several reasons . \n",
      "1 There are several reasons . \n",
      "2 There are several reasons . \n",
      "3 There are several reasons . \n"
     ]
    }
   ],
   "source": [
    "# sentence\n",
    "idx  = 9\n",
    "print(train_dataset['sentence'][idx])\n",
    "# corrections\n",
    "for i, correction in enumerate(train_dataset['corrections'][idx]):\n",
    "    print( i, correction)\n"
   ]
  },
  {
   "cell_type": "code",
   "execution_count": 9,
   "metadata": {},
   "outputs": [
    {
     "data": {
      "text/plain": [
       "'Students can focus on only a few subjects they are intwerested in and they will become an experts in those areas. '"
      ]
     },
     "execution_count": 9,
     "metadata": {},
     "output_type": "execute_result"
    }
   ],
   "source": [
    "clean22 = correct_spacing(train_dataset['sentence'][22])\n",
    "clean22"
   ]
  },
  {
   "cell_type": "code",
   "execution_count": 26,
   "metadata": {},
   "outputs": [],
   "source": [
    "jfleg_dir = Path.cwd()/'jfleg_dataset'  # if you only use 'jfleg', hf will try and use that and complain\n",
    "jfleg_dir.mkdir(parents=True,exist_ok=True)\n",
    "c4_dir = Path.cwd()/'c4_dataset'\n",
    "c4_dir.mkdir(parents=True,exist_ok=True)"
   ]
  },
  {
   "attachments": {},
   "cell_type": "markdown",
   "metadata": {},
   "source": [
    "Process Jfleg data  "
   ]
  },
  {
   "cell_type": "code",
   "execution_count": 31,
   "metadata": {},
   "outputs": [],
   "source": [
    "j_train_file = jfleg_dir/'jtrain.csv'\n",
    "j_eval_file = jfleg_dir/'jeval.csv'"
   ]
  },
  {
   "cell_type": "code",
   "execution_count": 34,
   "metadata": {},
   "outputs": [],
   "source": [
    "generate_csv(j_train_file, train_dataset)"
   ]
  },
  {
   "cell_type": "code",
   "execution_count": 35,
   "metadata": {},
   "outputs": [],
   "source": [
    "generate_csv(j_eval_file, eval_dataset)"
   ]
  },
  {
   "cell_type": "code",
   "execution_count": 39,
   "metadata": {},
   "outputs": [
    {
     "name": "stdout",
     "output_type": "stream",
     "text": [
      "3016\n",
      "2988\n"
     ]
    }
   ],
   "source": [
    "# with open(j_train_file) as f:\n",
    "#     train_data = f.read()\n",
    "\n",
    "train_data = pd.read_csv(j_train_file)\n",
    "eval_data = pd.read_csv(j_eval_file)\n",
    "\n",
    "print(len(train_data))\n",
    "print(len(eval_data))\n",
    "\n"
   ]
  },
  {
   "cell_type": "code",
   "execution_count": 40,
   "metadata": {},
   "outputs": [
    {
     "data": {
      "text/html": [
       "<div>\n",
       "<style scoped>\n",
       "    .dataframe tbody tr th:only-of-type {\n",
       "        vertical-align: middle;\n",
       "    }\n",
       "\n",
       "    .dataframe tbody tr th {\n",
       "        vertical-align: top;\n",
       "    }\n",
       "\n",
       "    .dataframe thead th {\n",
       "        text-align: right;\n",
       "    }\n",
       "</style>\n",
       "<table border=\"1\" class=\"dataframe\">\n",
       "  <thead>\n",
       "    <tr style=\"text-align: right;\">\n",
       "      <th></th>\n",
       "      <th>input</th>\n",
       "      <th>target</th>\n",
       "    </tr>\n",
       "  </thead>\n",
       "  <tbody>\n",
       "    <tr>\n",
       "      <th>0</th>\n",
       "      <td>So I think we can not live if old people could...</td>\n",
       "      <td>So I think we would not be alive if our ancest...</td>\n",
       "    </tr>\n",
       "    <tr>\n",
       "      <th>1</th>\n",
       "      <td>So I think we can not live if old people could...</td>\n",
       "      <td>So I think we could not live if older people d...</td>\n",
       "    </tr>\n",
       "    <tr>\n",
       "      <th>2</th>\n",
       "      <td>So I think we can not live if old people could...</td>\n",
       "      <td>So I think we can not live if old people could...</td>\n",
       "    </tr>\n",
       "    <tr>\n",
       "      <th>3</th>\n",
       "      <td>So I think we can not live if old people could...</td>\n",
       "      <td>So I think we can not live if old people can n...</td>\n",
       "    </tr>\n",
       "    <tr>\n",
       "      <th>4</th>\n",
       "      <td>For not use car.</td>\n",
       "      <td>Not for use with a car.</td>\n",
       "    </tr>\n",
       "  </tbody>\n",
       "</table>\n",
       "</div>"
      ],
      "text/plain": [
       "                                               input  \\\n",
       "0  So I think we can not live if old people could...   \n",
       "1  So I think we can not live if old people could...   \n",
       "2  So I think we can not live if old people could...   \n",
       "3  So I think we can not live if old people could...   \n",
       "4                                  For not use car.    \n",
       "\n",
       "                                              target  \n",
       "0  So I think we would not be alive if our ancest...  \n",
       "1  So I think we could not live if older people d...  \n",
       "2  So I think we can not live if old people could...  \n",
       "3  So I think we can not live if old people can n...  \n",
       "4                           Not for use with a car.   "
      ]
     },
     "execution_count": 40,
     "metadata": {},
     "output_type": "execute_result"
    }
   ],
   "source": [
    "train_data.head()"
   ]
  },
  {
   "cell_type": "code",
   "execution_count": 41,
   "metadata": {},
   "outputs": [
    {
     "data": {
      "text/html": [
       "<div>\n",
       "<style scoped>\n",
       "    .dataframe tbody tr th:only-of-type {\n",
       "        vertical-align: middle;\n",
       "    }\n",
       "\n",
       "    .dataframe tbody tr th {\n",
       "        vertical-align: top;\n",
       "    }\n",
       "\n",
       "    .dataframe thead th {\n",
       "        text-align: right;\n",
       "    }\n",
       "</style>\n",
       "<table border=\"1\" class=\"dataframe\">\n",
       "  <thead>\n",
       "    <tr style=\"text-align: right;\">\n",
       "      <th></th>\n",
       "      <th>input</th>\n",
       "      <th>target</th>\n",
       "    </tr>\n",
       "  </thead>\n",
       "  <tbody>\n",
       "    <tr>\n",
       "      <th>0</th>\n",
       "      <td>New and new technology has been introduced to ...</td>\n",
       "      <td>New technology has been introduced to society.</td>\n",
       "    </tr>\n",
       "    <tr>\n",
       "      <th>1</th>\n",
       "      <td>New and new technology has been introduced to ...</td>\n",
       "      <td>New technology has been introduced into the so...</td>\n",
       "    </tr>\n",
       "    <tr>\n",
       "      <th>2</th>\n",
       "      <td>New and new technology has been introduced to ...</td>\n",
       "      <td>Newer and newer technology has been introduced...</td>\n",
       "    </tr>\n",
       "    <tr>\n",
       "      <th>3</th>\n",
       "      <td>New and new technology has been introduced to ...</td>\n",
       "      <td>Newer and newer technology has been introduced...</td>\n",
       "    </tr>\n",
       "    <tr>\n",
       "      <th>4</th>\n",
       "      <td>One possible outcome is that an environmentall...</td>\n",
       "      <td>One possible outcome is that an environmentall...</td>\n",
       "    </tr>\n",
       "  </tbody>\n",
       "</table>\n",
       "</div>"
      ],
      "text/plain": [
       "                                               input  \\\n",
       "0  New and new technology has been introduced to ...   \n",
       "1  New and new technology has been introduced to ...   \n",
       "2  New and new technology has been introduced to ...   \n",
       "3  New and new technology has been introduced to ...   \n",
       "4  One possible outcome is that an environmentall...   \n",
       "\n",
       "                                              target  \n",
       "0     New technology has been introduced to society.  \n",
       "1  New technology has been introduced into the so...  \n",
       "2  Newer and newer technology has been introduced...  \n",
       "3  Newer and newer technology has been introduced...  \n",
       "4  One possible outcome is that an environmentall...  "
      ]
     },
     "execution_count": 41,
     "metadata": {},
     "output_type": "execute_result"
    }
   ],
   "source": [
    "eval_data.head()"
   ]
  },
  {
   "attachments": {},
   "cell_type": "markdown",
   "metadata": {},
   "source": [
    "## 2) C4_200M dataset\n",
    "Process C4_200M (!) - we'll pull 10K to start"
   ]
  },
  {
   "cell_type": "code",
   "execution_count": 46,
   "metadata": {},
   "outputs": [
    {
     "name": "stderr",
     "output_type": "stream",
     "text": [
      "c:\\Users\\shiney\\anaconda3\\envs\\llama_recipes\\lib\\site-packages\\datasets\\load.py:1429: FutureWarning: The repository for liweili/c4_200m contains custom code which must be executed to correctly load the dataset. You can inspect the repository content at https://hf.co/datasets/liweili/c4_200m\n",
      "You can avoid this message in future by passing the argument `trust_remote_code=True`.\n",
      "Passing `trust_remote_code=True` will be mandatory to load this dataset from the next major release of `datasets`.\n",
      "  warnings.warn(\n"
     ]
    }
   ],
   "source": [
    "c4_dataset = load_dataset(\"liweili/c4_200m\", streaming = True)"
   ]
  },
  {
   "cell_type": "code",
   "execution_count": 47,
   "metadata": {},
   "outputs": [
    {
     "data": {
      "text/plain": [
       "dict_keys(['train'])"
      ]
     },
     "execution_count": 47,
     "metadata": {},
     "output_type": "execute_result"
    }
   ],
   "source": [
    "c4_dataset.keys()"
   ]
  },
  {
   "cell_type": "code",
   "execution_count": 53,
   "metadata": {},
   "outputs": [],
   "source": [
    "iterator = iter(c4_dataset['train'])\n"
   ]
  },
  {
   "cell_type": "code",
   "execution_count": null,
   "metadata": {},
   "outputs": [],
   "source": [
    "print(len(iterator))\n",
    "for data in iterator:\n",
    "    print(data)\n",
    "    break"
   ]
  },
  {
   "cell_type": "code",
   "execution_count": 56,
   "metadata": {},
   "outputs": [],
   "source": [
    "def c4_generate_csv(csv_path, iterator, num_examples, encoding):\n",
    "    with open(csv_path, 'w', newline='', encoding = encoding) as csvfile:\n",
    "        writer = csv.writer(csvfile)\n",
    "        writer.writerow([\"input\", \"target\"])\n",
    "        for i in range(0,num_examples):\n",
    "          data = next(iterator)\n",
    "          input_text = data[\"input\"]\n",
    "          input_text = correct_spacing(input_text)\n",
    "          correction = correct_spacing(data[\"output\"])\n",
    "          if input_text and correction:\n",
    "            writer.writerow([input_text, correction])"
   ]
  },
  {
   "cell_type": "code",
   "execution_count": 57,
   "metadata": {},
   "outputs": [],
   "source": [
    "c4_dir = Path.cwd()/'c4_dataset'\n",
    "c4_dir.mkdir(parents=True,exist_ok=True)"
   ]
  },
  {
   "attachments": {},
   "cell_type": "markdown",
   "metadata": {},
   "source": [
    "You can modify the following to make the csv file with desired number of instances, here we go for 10k to make a quick test"
   ]
  },
  {
   "cell_type": "code",
   "execution_count": 58,
   "metadata": {},
   "outputs": [],
   "source": [
    "c4_filename = c4_dir/'c4train_10k.csv'"
   ]
  },
  {
   "cell_type": "code",
   "execution_count": 63,
   "metadata": {},
   "outputs": [],
   "source": [
    "c4_generate_csv(c4_filename, iterator, num_examples=10000, encoding='UTF-8')"
   ]
  },
  {
   "cell_type": "code",
   "execution_count": 64,
   "metadata": {},
   "outputs": [
    {
     "name": "stdout",
     "output_type": "stream",
     "text": [
      "10000\n"
     ]
    }
   ],
   "source": [
    "c4_data = pd.read_csv(c4_filename)\n",
    "\n",
    "print(len(c4_data))"
   ]
  },
  {
   "cell_type": "code",
   "execution_count": 65,
   "metadata": {},
   "outputs": [
    {
     "data": {
      "text/html": [
       "<div>\n",
       "<style scoped>\n",
       "    .dataframe tbody tr th:only-of-type {\n",
       "        vertical-align: middle;\n",
       "    }\n",
       "\n",
       "    .dataframe tbody tr th {\n",
       "        vertical-align: top;\n",
       "    }\n",
       "\n",
       "    .dataframe thead th {\n",
       "        text-align: right;\n",
       "    }\n",
       "</style>\n",
       "<table border=\"1\" class=\"dataframe\">\n",
       "  <thead>\n",
       "    <tr style=\"text-align: right;\">\n",
       "      <th></th>\n",
       "      <th>input</th>\n",
       "      <th>target</th>\n",
       "    </tr>\n",
       "  </thead>\n",
       "  <tbody>\n",
       "    <tr>\n",
       "      <th>0</th>\n",
       "      <td>Found in the south of Dorset Bournemouth had 7...</td>\n",
       "      <td>Found in the south of Dorset, Bournemouth has ...</td>\n",
       "    </tr>\n",
       "    <tr>\n",
       "      <th>1</th>\n",
       "      <td>Morrison finished 17th out of 25. with a score...</td>\n",
       "      <td>Morrison finished 17th out of 25 with a score ...</td>\n",
       "    </tr>\n",
       "    <tr>\n",
       "      <th>2</th>\n",
       "      <td>Routinely (maybe weekly/monthly) check for new...</td>\n",
       "      <td>Routinely (maybe weekly/monthly) check for new...</td>\n",
       "    </tr>\n",
       "    <tr>\n",
       "      <th>3</th>\n",
       "      <td>First day of Rest=VX oil change oil filter and...</td>\n",
       "      <td>First day of rest=VX oil change, oil filter an...</td>\n",
       "    </tr>\n",
       "    <tr>\n",
       "      <th>4</th>\n",
       "      <td>Books; A good selection of _ ? books on many d...</td>\n",
       "      <td>Books; A good selection of Art books on many d...</td>\n",
       "    </tr>\n",
       "  </tbody>\n",
       "</table>\n",
       "</div>"
      ],
      "text/plain": [
       "                                               input  \\\n",
       "0  Found in the south of Dorset Bournemouth had 7...   \n",
       "1  Morrison finished 17th out of 25. with a score...   \n",
       "2  Routinely (maybe weekly/monthly) check for new...   \n",
       "3  First day of Rest=VX oil change oil filter and...   \n",
       "4  Books; A good selection of _ ? books on many d...   \n",
       "\n",
       "                                              target  \n",
       "0  Found in the south of Dorset, Bournemouth has ...  \n",
       "1  Morrison finished 17th out of 25 with a score ...  \n",
       "2  Routinely (maybe weekly/monthly) check for new...  \n",
       "3  First day of rest=VX oil change, oil filter an...  \n",
       "4  Books; A good selection of Art books on many d...  "
      ]
     },
     "execution_count": 65,
     "metadata": {},
     "output_type": "execute_result"
    }
   ],
   "source": [
    "c4_data.head()"
   ]
  },
  {
   "attachments": {},
   "cell_type": "markdown",
   "metadata": {},
   "source": [
    "## 3. merge dataset\n",
    "Create a single training file by combining jtrain and c4train"
   ]
  },
  {
   "cell_type": "code",
   "execution_count": 67,
   "metadata": {},
   "outputs": [],
   "source": [
    "merge_list = [j_train_file, c4_filename, ]"
   ]
  },
  {
   "cell_type": "code",
   "execution_count": 68,
   "metadata": {},
   "outputs": [],
   "source": [
    "combined_csv = pd.concat([pd.read_csv(fn) for fn in merge_list])\n"
   ]
  },
  {
   "cell_type": "code",
   "execution_count": 69,
   "metadata": {},
   "outputs": [],
   "source": [
    "merged_name = \"gtrain_10k.csv\""
   ]
  },
  {
   "cell_type": "code",
   "execution_count": 70,
   "metadata": {},
   "outputs": [],
   "source": [
    "combined_csv.to_csv(merged_name, index=False, encoding = 'utf-8-sig', )"
   ]
  },
  {
   "cell_type": "code",
   "execution_count": 71,
   "metadata": {},
   "outputs": [
    {
     "name": "stdout",
     "output_type": "stream",
     "text": [
      "13016\n"
     ]
    },
    {
     "data": {
      "text/html": [
       "<div>\n",
       "<style scoped>\n",
       "    .dataframe tbody tr th:only-of-type {\n",
       "        vertical-align: middle;\n",
       "    }\n",
       "\n",
       "    .dataframe tbody tr th {\n",
       "        vertical-align: top;\n",
       "    }\n",
       "\n",
       "    .dataframe thead th {\n",
       "        text-align: right;\n",
       "    }\n",
       "</style>\n",
       "<table border=\"1\" class=\"dataframe\">\n",
       "  <thead>\n",
       "    <tr style=\"text-align: right;\">\n",
       "      <th></th>\n",
       "      <th>input</th>\n",
       "      <th>target</th>\n",
       "    </tr>\n",
       "  </thead>\n",
       "  <tbody>\n",
       "    <tr>\n",
       "      <th>0</th>\n",
       "      <td>So I think we can not live if old people could...</td>\n",
       "      <td>So I think we would not be alive if our ancest...</td>\n",
       "    </tr>\n",
       "    <tr>\n",
       "      <th>1</th>\n",
       "      <td>So I think we can not live if old people could...</td>\n",
       "      <td>So I think we could not live if older people d...</td>\n",
       "    </tr>\n",
       "    <tr>\n",
       "      <th>2</th>\n",
       "      <td>So I think we can not live if old people could...</td>\n",
       "      <td>So I think we can not live if old people could...</td>\n",
       "    </tr>\n",
       "    <tr>\n",
       "      <th>3</th>\n",
       "      <td>So I think we can not live if old people could...</td>\n",
       "      <td>So I think we can not live if old people can n...</td>\n",
       "    </tr>\n",
       "    <tr>\n",
       "      <th>4</th>\n",
       "      <td>For not use car.</td>\n",
       "      <td>Not for use with a car.</td>\n",
       "    </tr>\n",
       "  </tbody>\n",
       "</table>\n",
       "</div>"
      ],
      "text/plain": [
       "                                               input  \\\n",
       "0  So I think we can not live if old people could...   \n",
       "1  So I think we can not live if old people could...   \n",
       "2  So I think we can not live if old people could...   \n",
       "3  So I think we can not live if old people could...   \n",
       "4                                  For not use car.    \n",
       "\n",
       "                                              target  \n",
       "0  So I think we would not be alive if our ancest...  \n",
       "1  So I think we could not live if older people d...  \n",
       "2  So I think we can not live if old people could...  \n",
       "3  So I think we can not live if old people can n...  \n",
       "4                           Not for use with a car.   "
      ]
     },
     "execution_count": 71,
     "metadata": {},
     "output_type": "execute_result"
    }
   ],
   "source": [
    "train_data = pd.read_csv(merged_name)\n",
    "\n",
    "print(len(train_data))\n",
    "train_data.head()"
   ]
  },
  {
   "cell_type": "code",
   "execution_count": 73,
   "metadata": {},
   "outputs": [],
   "source": [
    "eval_name = \"grammar_validation.csv\""
   ]
  },
  {
   "cell_type": "code",
   "execution_count": 74,
   "metadata": {},
   "outputs": [],
   "source": [
    "eval_csv = pd.read_csv(j_eval_file)\n",
    "eval_csv.to_csv(eval_name, index=False, encoding = 'utf-8-sig', )"
   ]
  },
  {
   "cell_type": "code",
   "execution_count": 75,
   "metadata": {},
   "outputs": [
    {
     "name": "stdout",
     "output_type": "stream",
     "text": [
      "2988\n"
     ]
    },
    {
     "data": {
      "text/html": [
       "<div>\n",
       "<style scoped>\n",
       "    .dataframe tbody tr th:only-of-type {\n",
       "        vertical-align: middle;\n",
       "    }\n",
       "\n",
       "    .dataframe tbody tr th {\n",
       "        vertical-align: top;\n",
       "    }\n",
       "\n",
       "    .dataframe thead th {\n",
       "        text-align: right;\n",
       "    }\n",
       "</style>\n",
       "<table border=\"1\" class=\"dataframe\">\n",
       "  <thead>\n",
       "    <tr style=\"text-align: right;\">\n",
       "      <th></th>\n",
       "      <th>input</th>\n",
       "      <th>target</th>\n",
       "    </tr>\n",
       "  </thead>\n",
       "  <tbody>\n",
       "    <tr>\n",
       "      <th>0</th>\n",
       "      <td>So I think we can not live if old people could...</td>\n",
       "      <td>So I think we would not be alive if our ancest...</td>\n",
       "    </tr>\n",
       "    <tr>\n",
       "      <th>1</th>\n",
       "      <td>So I think we can not live if old people could...</td>\n",
       "      <td>So I think we could not live if older people d...</td>\n",
       "    </tr>\n",
       "    <tr>\n",
       "      <th>2</th>\n",
       "      <td>So I think we can not live if old people could...</td>\n",
       "      <td>So I think we can not live if old people could...</td>\n",
       "    </tr>\n",
       "    <tr>\n",
       "      <th>3</th>\n",
       "      <td>So I think we can not live if old people could...</td>\n",
       "      <td>So I think we can not live if old people can n...</td>\n",
       "    </tr>\n",
       "    <tr>\n",
       "      <th>4</th>\n",
       "      <td>For not use car.</td>\n",
       "      <td>Not for use with a car.</td>\n",
       "    </tr>\n",
       "  </tbody>\n",
       "</table>\n",
       "</div>"
      ],
      "text/plain": [
       "                                               input  \\\n",
       "0  So I think we can not live if old people could...   \n",
       "1  So I think we can not live if old people could...   \n",
       "2  So I think we can not live if old people could...   \n",
       "3  So I think we can not live if old people could...   \n",
       "4                                  For not use car.    \n",
       "\n",
       "                                              target  \n",
       "0  So I think we would not be alive if our ancest...  \n",
       "1  So I think we could not live if older people d...  \n",
       "2  So I think we can not live if old people could...  \n",
       "3  So I think we can not live if old people can n...  \n",
       "4                           Not for use with a car.   "
      ]
     },
     "execution_count": 75,
     "metadata": {},
     "output_type": "execute_result"
    }
   ],
   "source": [
    "eval_data = pd.read_csv(eval_name)\n",
    "\n",
    "print(len(eval_data))\n",
    "train_data.head()"
   ]
  },
  {
   "cell_type": "code",
   "execution_count": null,
   "metadata": {},
   "outputs": [],
   "source": []
  }
 ],
 "metadata": {
  "kernelspec": {
   "display_name": "Python 3.9.18 ('llama_recipes')",
   "language": "python",
   "name": "python3"
  },
  "language_info": {
   "codemirror_mode": {
    "name": "ipython",
    "version": 3
   },
   "file_extension": ".py",
   "mimetype": "text/x-python",
   "name": "python",
   "nbconvert_exporter": "python",
   "pygments_lexer": "ipython3",
   "version": "3.9.18"
  },
  "vscode": {
   "interpreter": {
    "hash": "370669f31d56c793d418c7345ca8413592cca298019e995be7fff47287a2522c"
   }
  }
 },
 "nbformat": 4,
 "nbformat_minor": 4
}
